{
 "cells": [
  {
   "cell_type": "markdown",
   "metadata": {},
   "source": [
    "# Learning Holographic Dual Metric by Receiving Experimental Data\n",
    "## **<font color = orange>_Implemented by Pytorch_</font>**\n",
    "### **<font color = red>Reference: Phys. Rev. D 98,106014 (2018)</font>**"
   ]
  },
  {
   "cell_type": "markdown",
   "metadata": {},
   "source": [
    "## Package"
   ]
  },
  {
   "cell_type": "code",
   "execution_count": 1,
   "metadata": {},
   "outputs": [],
   "source": [
    "import numpy as np\n",
    "import random as random\n",
    "import matplotlib.pyplot as plt\n",
    "from matplotlib import pyplot as plt\n",
    "from matplotlib import animation\n",
    "from celluloid import Camera\n",
    "import torch\n",
    "from torch import nn\n",
    "from torchviz import make_dot, make_dot_from_trace\n",
    "from torch import optim\n",
    "from torchdiffeq import odeint_adjoint as odeint\n",
    "from decimal import *\n",
    "import numpy as np\n",
    "from mpmath import *\n",
    "from sympy import *\n",
    "import scipy.integrate as integrate\n",
    "import scipy.special as sc\n",
    "from scipy.misc import derivative\n",
    "from pynverse import inversefunc\n",
    "import pandas as pd\n",
    "from pandas import Series,DataFrame\n",
    "device = 'cuda' if torch.cuda.is_available() else 'cpu'"
   ]
  },
  {
   "cell_type": "markdown",
   "metadata": {},
   "source": [
    "## Setting paramters"
   ]
  },
  {
   "cell_type": "code",
   "execution_count": 2,
   "metadata": {},
   "outputs": [],
   "source": [
    "n=2 #n+2 dim\n",
    "scale=1\n",
    "d=n+2 #dimension of spa\n",
    "m2=-1  #m^2\n",
    "lam=1 #lambda: coefficient for phi-4 potential\n",
    "q=0 #black hole charge\n",
    "uv_cutoff=1/scale #UV cutoff\n",
    "ini_eta=uv_cutoff #initial eta\n",
    "ir_cutoff=0.1/scale #IR cutoff\n",
    "layer=20 #N layer\n",
    "num_training_data=1000 #number of training data\n",
    "delta_eta=-(uv_cutoff-ir_cutoff)/(layer-1)  #interval between layers"
   ]
  },
  {
   "cell_type": "markdown",
   "metadata": {},
   "source": [
    "## Final Layer"
   ]
  },
  {
   "cell_type": "code",
   "execution_count": 3,
   "metadata": {},
   "outputs": [
    {
     "data": {
      "image/png": "[encoded data removed]",
      "text/plain": [
       "<Figure size 432x288 with 1 Axes>"
      ]
     },
     "metadata": {
      "needs_background": "light"
     },
     "output_type": "display_data"
    }
   ],
   "source": [
    "def t(F):\n",
    "    signr= np.heaviside(F-ir_cutoff,0)\n",
    "    signl= np.heaviside(-F-ir_cutoff,0)\n",
    "    return  signr+signl\n",
    "Fp= np.arange(-0.6, 0.6, 0.001) #step\n",
    "plt.plot(Fp,t(Fp), lw=5, label='$t(F)$')\n",
    "plt.title('Function of Final Layer')\n",
    "plt.legend(bbox_to_anchor=(1.05, 1), loc='upper left', borderaxespad=0.)\n",
    "plt.xlabel('F')\n",
    "plt.ylabel('$t(F)$')\n",
    "#plt.tight_layout()\n",
    "#plt.savefig(\"Tanh.png\")\n",
    "plt.show()"
   ]
  },
  {
   "cell_type": "markdown",
   "metadata": {},
   "source": [
    "## Setup"
   ]
  },
  {
   "cell_type": "markdown",
   "metadata": {},
   "source": [
    "We consider scalar field $\\phi$ only dependent on holographic direction $z$\n",
    "$$ \\tag{1}\n",
    "\\mathcal{L}_{\\text{matter}}=\\sqrt{-\\det (g)} \\left(-\\frac{1}{2} m^2 \\phi ^2-V(\\phi )-\\frac{1}{2} \\left(\\frac{\\partial \\phi }{\\partial z}\\right)^2\\right)\n",
    "$$\n",
    "\n",
    "in asymptotic AdS black hole background\n",
    "$$ \\tag{2}\n",
    "ds^2=\\frac{1}{z^2}\\left(-h(z)dt^2+\\frac{dz^2}{h(z)}+\\sum _{i=1}^n dx_i^2\\right)\n",
    "$$\n",
    "where emblackening function have following properties\n",
    "$$ \\tag{3}\n",
    "h(0)=1~~~\\& ~~~ h(1)=0~~~\\left(\\text{For simplicity, we set } z_h=1\\right)\n",
    "$$\n",
    "\n",
    "Specially, \n",
    "$$\\tag{4}\n",
    "h(z)=1-z^3-Q^2 z^3+Q^2 z^4\n",
    "$$\n",
    "\n",
    "in RN case. Note that, in extremal case, $Q=\\sqrt{3}$. "
   ]
  },
  {
   "cell_type": "markdown",
   "metadata": {},
   "source": [
    "## Reproduced Metric and EoM"
   ]
  },
  {
   "cell_type": "markdown",
   "metadata": {},
   "source": [
    "The EoM for $\\phi(z)$ is\n",
    "$$\\tag{5}\n",
    "z^2 h(z) \\phi ''(z)+\\left(z^2 h'(z)-2 z h(z)\\right) \\phi '(z)-m^2 \\phi -\\frac{\\delta V(\\phi )}{\\delta \\phi }=0\n",
    "$$\n",
    "Now we're wanna let $g_{11}=1$. Consider the following coordinate transformation\n",
    "$$\\tag{6}\n",
    "d\\eta=-\\frac{dz}{z \\sqrt{h(z)}}~,~~~\\eta =\\int _z^{z_h=1}\\frac{dz}{z \\sqrt{h(z)}}\n",
    "$$\n",
    "Then the EoM become\n",
    "$$\\tag{7}\n",
    "\\frac{\\partial \\Pi }{\\partial \\eta }+  H_R(\\eta )\\Pi-m^2 \\phi-\\frac{\\delta V(\\phi )}{\\delta \\phi }=0~,~~~H_R(\\eta )\\equiv\\frac{6 h(z(\\eta ))-y h'(z(\\eta ))}{2 \\sqrt{h(z(\\eta ))}}\n",
    "$$\n",
    "where $\\Pi :=\\frac{\\partial \\phi }{\\partial \\eta }$. Specially,  for Schwarzschild case, \n",
    "$$\\tag{8}\n",
    "z=\\text{sech}^{\\frac{2}{3}}\\left(\\frac{3 \\eta }{2}\\right)~,~~~H_R(\\eta )=3 \\coth (3 \\eta )\n",
    "$$"
   ]
  },
  {
   "cell_type": "code",
   "execution_count": 4,
   "metadata": {},
   "outputs": [
    {
     "name": "stdout",
     "output_type": "stream",
     "text": [
      "20 1.0 20\n"
     ]
    }
   ],
   "source": [
    "def h(y):\n",
    "    return 1-y**3-(q**2)*y**3+(q**2)*y**4\n",
    "\n",
    "def eta_coord(y):\n",
    "    r=[]\n",
    "    for i in range (0,len(y)):\n",
    "        r=np.append(r,integrate.quad(lambda z: 1/(z*(h(z)**(1/2))), y[i],1)[0])\n",
    "    return r\n",
    "\n",
    "def y_coord(eta):\n",
    "    r=[]\n",
    "    accep_error=10**(-3)\n",
    "    for i in range (0,len(eta)):\n",
    "        erroreta=100\n",
    "        y_lower=0\n",
    "        y_upper=1\n",
    "        while abs(erroreta) > accep_error:\n",
    "            yy=(y_lower+y_upper)/2\n",
    "            test_eta=eta_coord(np.array([yy]))\n",
    "            if test_eta > eta[i] :\n",
    "                 y_lower=yy\n",
    "            else: \n",
    "                 y_upper=yy\n",
    "            erroreta=eta[i]-test_eta\n",
    "        r=np.append(r,yy)  \n",
    "    return r\n",
    "\n",
    "def H_r(eta):\n",
    "    eta=eta/scale\n",
    "    return (6*h(y_coord(eta))-y_coord(eta)*derivative(h,y_coord(eta), dx=1e-6))/(2*(h(y_coord(eta))**(1/2)))\n",
    "\n",
    "def v(phi):\n",
    "    return (lam*phi**4)/4 #delta_v(phi)-> derivative(v,phi)\n",
    "\n",
    "def ff(eta,phi,pi):\n",
    "    return (derivative(v,phi, dx=1e-6)-H_r(eta*scale)*pi*scale+phi*m2)*scale**2\n",
    "\n",
    "\n",
    "eta_base=[]\n",
    "for i in range(0,int(layer)):\n",
    "    eta_base.append(ir_cutoff+i*abs(delta_eta))\n",
    "tanh = nn.Tanh()\n",
    "print(len(eta_base),eta_base[layer-1],layer)"
   ]
  },
  {
   "cell_type": "code",
   "execution_count": 5,
   "metadata": {},
   "outputs": [
    {
     "data": {
      "image/png": "[encoded data removed]",
      "text/plain": [
       "<Figure size 432x288 with 1 Axes>"
      ]
     },
     "metadata": {
      "needs_background": "light"
     },
     "output_type": "display_data"
    }
   ],
   "source": [
    "xx=np.arange(0.1, 1.05/scale, 0.05)\n",
    "plt.plot(xx,3*np.cosh(3*xx/scale)/np.sinh(3*xx/scale), lw=2, label='$3 coth(3\\eta)$')\n",
    "plt.plot(xx,H_r(xx), lw=2, label='$H_R(\\eta)$')\n",
    "plt.title('Reproduced Metric $H(\\eta)$')\n",
    "plt.legend(bbox_to_anchor=(1.05, 1), loc='upper left', borderaxespad=0.)\n",
    "plt.xlabel('$\\eta$')\n",
    "plt.ylabel('$H_R(\\eta)$')\n",
    "#plt.tight_layout()\n",
    "#plt.savefig(\"Hr_rnq09_n3.png\")\n",
    "plt.show()"
   ]
  },
  {
   "cell_type": "markdown",
   "metadata": {},
   "source": [
    "## Activation Function\n",
    "### **<font color = orange>_Runge-Kutta Fourth-Order_</font>**"
   ]
  },
  {
   "cell_type": "markdown",
   "metadata": {},
   "source": [
    "From EoM, let's say\n",
    "$$\\tag{9}\n",
    "\\tilde{f}(\\eta ,\\phi ,\\Pi )\\equiv \\frac{\\partial \\Pi }{\\partial \\eta }=-H_R\\Pi+m^2 \\phi+\\frac{\\delta V(\\phi )}{\\delta \\phi }\n",
    "$$\n",
    "The activation function at each layer is\n",
    "$$\n",
    "\\phi (\\Delta \\eta +\\eta )=\\phi (\\eta )+\\Delta \\eta  \\left(\\Pi (\\eta )+\\frac{1}{3} \\left(k_1+k_2+k_3\\right)\\right)\\\\\n",
    "\\Pi (\\Delta \\eta +\\eta )=\\Pi (\\eta )+\\frac{1}{3} \\left(k_1+2 k_2+2 k_3+k_4\\right)\\tag{10}\n",
    "$$\n",
    "where $k_1, k_2, k_3, k_4$ are defined by\n",
    "$$\n",
    "k_1\\equiv\\frac{\\Delta \\eta }{2}  \\tilde{f}(\\eta ,\\phi ,\\Pi )\\\\\n",
    "k_2\\equiv\\frac{\\Delta \\eta}{2}   \\tilde{f}\\left(\\eta+\\frac{\\Delta \\eta }{2} ,\\phi+k ,\\Pi+k_1 \\right),~~~k\\equiv\\frac{\\Delta \\eta }{2}  \\left(\\Pi+\\frac{k_1}{2} \\right)\\\\\n",
    "k_3\\equiv\\frac{\\Delta \\eta}{2}   \\tilde{f}\\left(\\eta+\\frac{\\Delta \\eta }{2} ,\\phi+k ,\\Pi+k_2 \\right)\\\\\n",
    "k_4\\equiv\\frac{\\Delta \\eta}{2}   \\tilde{f}\\left(\\eta+\\Delta \\eta ,\\phi+\\ell  ,\\Pi+2 k_3 \\right),~~~\\ell \\equiv\\Delta \\eta  \\left(k_3+\\Pi \\right)\n",
    "$$"
   ]
  },
  {
   "cell_type": "code",
   "execution_count": 6,
   "metadata": {},
   "outputs": [],
   "source": [
    "phi_list_pos_exp=[]\n",
    "pi_list_pos_exp=[]\n",
    "phi_list_neg_exp=[]\n",
    "pi_list_neg_exp=[]\n",
    "phi_exp_data=[]\n",
    "pi_exp_data=[]\n",
    "train_data_y=[]\n",
    "np.random.seed(1)\n",
    "while len(phi_list_pos_exp)<num_training_data or len(phi_list_neg_exp)<num_training_data :\n",
    "        eta=uv_cutoff\n",
    "        phi_ini=np.random.uniform(low=0, high=1.7, size=(num_training_data*50)) #random.uniform(0,1)\n",
    "        pi_ini=np.random.uniform(low=-0.2, high=0.7, size=(num_training_data*50))*scale#random.uniform(-1.7,0.01)\n",
    "        phi=phi_ini\n",
    "        pi=pi_ini\n",
    "        for i in range(0,int(layer-1)):\n",
    "            k1=delta_eta*ff(np.array([eta]),phi,pi)/2\n",
    "            k=delta_eta*(k1/2+pi)/2\n",
    "            k2=delta_eta*ff(np.array([eta+delta_eta/2]),phi+k,pi+k1)/2\n",
    "            k3=delta_eta*ff(np.array([eta+delta_eta/2]),phi+k,pi+k2)/2\n",
    "            ell=delta_eta*(pi+k3)\n",
    "            k4=delta_eta*ff(np.array([eta+delta_eta]),phi+k,pi+2*k3)/2\n",
    "            \n",
    "            phi_new=phi+delta_eta*(pi+(k1+k2+k3)/3)\n",
    "            pi_new=pi+(k1+2*k2+2*k3+k4)/3\n",
    "            eta+=delta_eta\n",
    "            phi=phi_new\n",
    "            pi=pi_new\n",
    "        for j in range(0,len(phi)):\n",
    "            final_layer=t(pi[j])\n",
    "            if final_layer>0.5: #2*pi/eta-m2*phi-delta_v(phi)\n",
    "                if len(phi_list_neg_exp)<num_training_data:\n",
    "                    phi_list_neg_exp.append(phi_ini[j])\n",
    "                    pi_list_neg_exp.append(pi_ini[j])\n",
    "                    phi_exp_data.append(phi_ini[j])\n",
    "                    pi_exp_data.append(pi_ini[j])\n",
    "                    train_data_y.append(final_layer) #false t(pi)=1\n",
    "            else: \n",
    "                if len(phi_list_pos_exp)<num_training_data:\n",
    "                    phi_list_pos_exp.append(phi_ini[j])\n",
    "                    pi_list_pos_exp.append(pi_ini[j])\n",
    "                    phi_exp_data.append(phi_ini[j])\n",
    "                    pi_exp_data.append(pi_ini[j])\n",
    "                    train_data_y.append(final_layer) #true t(pi)=0\n",
    "                    #print(len(train_data_y))"
   ]
  },
  {
   "cell_type": "markdown",
   "metadata": {},
   "source": [
    "## Generating Data by Real Metric"
   ]
  },
  {
   "cell_type": "markdown",
   "metadata": {},
   "source": [
    "Set $\\epsilon =0.1$\n",
    "\n",
    "True: $\\Pi \\leq \\epsilon$  $\\qquad$  False: $\\Pi >\\epsilon$"
   ]
  },
  {
   "cell_type": "code",
   "execution_count": 7,
   "metadata": {},
   "outputs": [
    {
     "data": {
      "image/png": "[encoded data removed]",
      "text/plain": [
       "<Figure size 432x288 with 1 Axes>"
      ]
     },
     "metadata": {
      "needs_background": "light"
     },
     "output_type": "display_data"
    }
   ],
   "source": [
    "plt.plot(phi_list_neg_exp,pi_list_neg_exp,'o',color='g', label='$|\\Pi|>\\epsilon$')\n",
    "plt.plot(phi_list_pos_exp,pi_list_pos_exp,'o',color='b', label='$|\\Pi|\\leq\\epsilon$')\n",
    "plt.title('Real Data Generating by AdS Black Hole')\n",
    "plt.legend(bbox_to_anchor=(1.05, 1), loc='upper left', borderaxespad=0.)\n",
    "plt.xlabel('$\\phi$')\n",
    "plt.ylabel('$\\Pi$')\n",
    "#plt.tight_layout()\n",
    "#plt.savefig(\"data_rnq09_3n.png\")\n",
    "plt.show()"
   ]
  },
  {
   "cell_type": "markdown",
   "metadata": {},
   "source": [
    "## Flowchart"
   ]
  },
  {
   "cell_type": "markdown",
   "metadata": {
    "scrolled": true
   },
   "source": [
    "<img src=pic/chart.PNG width=300></img>"
   ]
  },
  {
   "cell_type": "markdown",
   "metadata": {},
   "source": [
    "## Assumptions of Reproduced Metric $H_R(\\eta )$"
   ]
  },
  {
   "cell_type": "markdown",
   "metadata": {},
   "source": [
    "$$\\tag{A1}\n",
    "H_R(\\eta )\\in \\mathcal{C}_{\\infty }~~~\\forall \\eta \\geq 0\n",
    "$$\n",
    "$$\\tag{A2}\n",
    "H_R(\\eta )\\to \\frac{1}{\\eta }~~~\\text{as}~~~\\eta\\to 0\n",
    "$$\n",
    "$$\\tag{A3}\n",
    "H_R(\\eta )\\to (n+1)~~~\\text{as}~~~\\eta\\to \\infty~~~(\\text{in } (n+2)\\text{-dimensional spacetime})\n",
    "$$\n",
    "Thus we are able to say\n",
    "$$\n",
    "H_R(\\eta )=H^{\\text{ir}}{}_R(\\eta )\\text{:=}\\frac{c_{-1}}{\\eta }+c_0+c_1 \\eta +c_2 \\eta ^2+\\text{...}=\\overset{\\rightharpoonup }{c}.\\overset{\\rightharpoonup }{\\eta }_{\\text{ir}}~~~\\text{as}~~\\eta <\\eta ^*\\\\\n",
    "H_R(\\eta )=H^{\\text{uv}}{}_R(\\eta )\\text{:=}=d_0+d_1 \\eta +d_2 \\eta ^2+\\text{...}=\\overset{\\rightharpoonup }{d}.\\overset{\\rightharpoonup }{\\eta }_{\\text{uv}}~~~\\text{as}~~\\eta >\\eta ^*\n",
    "$$\n",
    "where $\\eta ^*$  is matching point. ($\\eta ^*$=0.5 in our code) Due to (A2),\n",
    "$$\n",
    "c_{-1}=1 ~~~\\text{and}~~~~ c_0=0\n",
    "$$\n",
    "From (A3), we can fix two of coefficient $\\overset{\\rightharpoonup }{d}=(d_0, d_1, d_2, ...)$. Moreover, because of (A1), we have matching condition\n",
    "$$\n",
    "H^{\\text{ir}}{}_R\\left(\\eta ^*\\right)=H^{\\text{uv}}{}_R\\left(\\eta ^*\\right),~~~\\frac{\\partial H^{\\text{ir}}{}_R\\left(\\eta ^*\\right)}{\\partial \\eta }=\\frac{\\partial H^{\\text{uv}}{}_R\\left(\\eta ^*\\right)}{\\partial \\eta },\\text{...}\\text{...}\n",
    "$$"
   ]
  },
  {
   "cell_type": "code",
   "execution_count": 8,
   "metadata": {},
   "outputs": [],
   "source": [
    "ReLU= nn.ReLU()\n",
    "from torch.autograd import grad\n",
    "def factorial(n):\n",
    "    if n == 0:\n",
    "        return 1\n",
    "    else:\n",
    "        return n*factorial(n-1)\n",
    "\n",
    "def D(f,x,n):\n",
    "    x=torch.tensor([float(x)], requires_grad=True)\n",
    "    func=f(x)\n",
    "    for i in range(n):\n",
    "        grads=grad(func, x, create_graph=True)[0]\n",
    "        func=grads\n",
    "    return grads\n",
    "def DP(x,power,n):\n",
    "    if n>power and power>=0:\n",
    "        return torch.tensor([0.])\n",
    "    x=torch.tensor([float(x)], requires_grad=True)\n",
    "    if n==0:\n",
    "        return P(power,x)\n",
    "    else:\n",
    "        func=P(power,x)\n",
    "        for i in range(n):\n",
    "            grads=grad(func, x, create_graph=True)[0]\n",
    "            func=grads\n",
    "        return grads\n",
    "    \n",
    "def D_fitting_results_exp(fitting_results_exp,h_fitting_vec_tensor_ir,x,n):\n",
    "    x=torch.tensor([float(x)], requires_grad=True)\n",
    "    func=fitting_results_exp(h_fitting_vec_tensor_ir,x)\n",
    "    for i in range(n):\n",
    "        grads=grad(func, x, create_graph=True)[0]\n",
    "        func=grads\n",
    "    return grads"
   ]
  },
  {
   "cell_type": "code",
   "execution_count": 17,
   "metadata": {},
   "outputs": [],
   "source": [
    "def fitting_results_exp(h_fitting_vec_tensor_ir,x):\n",
    "    x=x/scale\n",
    "    def h_bhk_uv(eta):\n",
    "        def h_bhk_uv_sub(eta):\n",
    "            summ=P(0,eta)*h_fitting_vec_tensor_ir[0]\n",
    "            for i in range(1,int(n_ir)):\n",
    "                summ+=P(i,eta)*h_fitting_vec_tensor_ir[i]\n",
    "            return summ\n",
    "        return h_bhk_uv_sub(eta)\n",
    "        \n",
    "    def h_bhk_ir(eta):\n",
    "        #A_matrix\n",
    "        A_mat=torch.zeros(n_ir, n_ir, dtype=torch.float64)\n",
    "        for i in range(0,n_ir):\n",
    "            for j in range(0,n_ir):\n",
    "                A_mat[i][j]=A_mat[i][j]+DP(ma_pt,j+1,i)\n",
    "        A_inverse=torch.inverse(A_mat)\n",
    "            \n",
    "        #b_vec\n",
    "        b_vec=torch.zeros(n_ir, 1, dtype=torch.float64)\n",
    "        b_vec[0]=b_vec[0]+h_bhk_uv(ma_pt)-1/ma_pt\n",
    "        for i in range(1,n_ir):\n",
    "            b_vec[i]=b_vec[i]+D(h_bhk_uv,ma_pt,i)-DP(ma_pt,-1,i)\n",
    "\n",
    "        #A_matrix**(-1) dot b_vec\n",
    "        x_vec=torch.mm(A_inverse,b_vec)\n",
    "\n",
    "        r=1/eta\n",
    "        for i in range(0,n_ir):\n",
    "            r+=x_vec[i]*P(i+1,eta)\n",
    "        return r\n",
    "    \n",
    "    if eta<ma_pt:\n",
    "        return h_bhk_ir(x)\n",
    "    else:\n",
    "        return h_bhk_uv(x)"
   ]
  },
  {
   "cell_type": "code",
   "execution_count": 18,
   "metadata": {},
   "outputs": [
    {
     "name": "stdout",
     "output_type": "stream",
     "text": [
      "tensor([[-2.3964],\n",
      "        [-0.3960]], requires_grad=True) 2\n",
      "OrderedDict([('training_data_ir', tensor([[-2.3964],\n",
      "        [-0.3960]]))])\n"
     ]
    }
   ],
   "source": [
    "n_ir=2\n",
    "#n_uv=8\n",
    "ma_pt=ini_eta/2#(ini_eta-ir_cutoff)/2\n",
    "#np.random.seed(7)\n",
    "avr=random.uniform(-1,1)\n",
    "h_fitting_vec_ir=[]\n",
    "for i in range(0,int(n_ir)):\n",
    "    h_fitting_vec_ir.append([np.random.randn()+avr])#np.random.randn()\n",
    "h_fitting_vec_tensor_ir=torch.tensor(h_fitting_vec_ir, requires_grad=True)\n",
    "print(h_fitting_vec_tensor_ir,len(h_fitting_vec_tensor_ir))\n",
    "def P(n,x):\n",
    "    return  x**n\n",
    "\n",
    "class PyTorchLinearRegression_fitting(nn.Module):\n",
    "    def __init__(self):\n",
    "        super().__init__()\n",
    "        self.training_data_ir = nn.Parameter(h_fitting_vec_tensor_ir)\n",
    "        \n",
    "    def forward(self,eta,phi,pi):\n",
    "        \n",
    "        def ff_tensor(eta,phi,pi):\n",
    "            return (derivative(v,phi, dx=1e-6)-fitting_results_exp(self.training_data_ir,eta*scale)*pi*scale+phi*m2)*scale**2\n",
    "        \n",
    "        def t_tensor(F):\n",
    "            return 1-torch.exp(-(torch.abs(F)**2.5)/0.03) #ReLU(F-ir_cutoff)+ReLU(-F-ir_cutoff) #(tanh(wi*(F-0.1))-tanh(wi*(F+0.1))+2)/2 #(F**2)*wi\n",
    "        \n",
    "        def ir_reg(order,coe,training_data_ir):\n",
    "            r=0\n",
    "            for j in range(0,int(order+1)):\n",
    "                the=factorial(j)*((-1)**j)*(1/(ir_cutoff)**(1+j))\n",
    "                if j==0:\n",
    "                    exp=training_data_ir[0]\n",
    "                else:\n",
    "                    exp=D_fitting_results_exp(fitting_results_exp,training_data_ir,ir_cutoff,j)\n",
    "                r+=coe*ReLU(abs(the-exp)-1/(ir_cutoff)**(j))**2 #ReLU(abs(the-exp)-1/(ir_cutoff)**(j))**2\n",
    "            return r\n",
    "\n",
    "        for i in range(0,layer-1):\n",
    "            k1=delta_eta*ff_tensor(eta,phi,pi)/2\n",
    "            k=delta_eta*(k1/2+pi)/2\n",
    "            k2=delta_eta*ff_tensor(eta+delta_eta/2,phi+k,pi+k1)/2\n",
    "            k3=delta_eta*ff_tensor(eta+delta_eta/2,phi+k,pi+k2)/2\n",
    "            ell=delta_eta*(pi+k3)\n",
    "            k4=delta_eta*ff_tensor(eta+delta_eta,phi+k,pi+2*k3)/2\n",
    "\n",
    "            phi_new=phi+delta_eta*(pi+(k1+k2+k3)/3)\n",
    "            pi_new=pi+(k1+2*k2+2*k3+k4)/3\n",
    "            eta+=delta_eta\n",
    "            phi=phi_new\n",
    "            pi=pi_new\n",
    "        #2*pi/eta-m2*phi-delta_v(phi)\n",
    "        order=0\n",
    "        coe=0.1\n",
    "        return (t_tensor(pi),torch.sum(self.training_data_ir**2),ir_reg(order,coe,self.training_data_ir))\n",
    "    \n",
    "model_fitting = PyTorchLinearRegression_fitting()#.to(device)\n",
    "print(model_fitting.state_dict())"
   ]
  },
  {
   "cell_type": "markdown",
   "metadata": {},
   "source": [
    "## Optimizer: Adam"
   ]
  },
  {
   "cell_type": "markdown",
   "metadata": {},
   "source": [
    "$$\n",
    "\\hat{m}_{i+1}\\leftarrow \\frac{\\left(1-\\beta _1\\right) \\nabla _{\\overset{\\rightharpoonup }{d}}L_i+\\beta _1 \\left(1-\\beta _1^{i+1}\\right) \\hat{m}_i}{1-\\beta _1^{i+1}}\\\\\n",
    "\\hat{v}_{i+1}\\leftarrow \\frac{\\left(1-\\beta _2\\right) \\left(\\nabla _{\\overset{\\rightharpoonup }{d}}L_i\\right){}^2+\\beta _2 \\left(1-\\beta _2^{i+1}\\right) \\hat{v}_i}{1-\\beta _2^{i+1}}\\\\\n",
    "\\overset{\\rightharpoonup }{d}_{i+1}\\leftarrow \\overset{\\rightharpoonup }{d}_i-\\frac{\\hat{m}_i \\eta _{\\ell }}{\\delta +\\sqrt{\\hat{v}_i}}\n",
    "$$"
   ]
  },
  {
   "cell_type": "code",
   "execution_count": 19,
   "metadata": {},
   "outputs": [
    {
     "name": "stdout",
     "output_type": "stream",
     "text": [
      "OrderedDict([('training_data_ir', tensor([[-2.3964],\n",
      "        [-0.3960]]))])\n"
     ]
    }
   ],
   "source": [
    "lr_xp_fitting=0.03 #0.03\n",
    "lair=0.1\n",
    "irc=0\n",
    "cm=10\n",
    "uvd=0.1\n",
    "optimizer_exp_fitting=optim.Adam(model_fitting.parameters(), lr=lr_xp_fitting) #RMSprop #Adam\n",
    "MSELoss = nn.MSELoss()\n",
    "def build_train_step_exp_fitting(model, loss_fn, optimizer):\n",
    "    \n",
    "    def train_step_exp_fitting(eta,phi,pi, y):   \n",
    "        \n",
    "        #Training Model\n",
    "        model_fitting.train()\n",
    "        \n",
    "        # Prediction\n",
    "        yhat = model_fitting(eta,phi,pi)\n",
    "        \n",
    "        #Computing Loss Function\n",
    "        \n",
    "        loss = loss_fn(y, yhat[0])+lair*yhat[1]+yhat[2]\n",
    "        \n",
    "        #Computing Gradient\n",
    "        loss.backward()\n",
    "        \n",
    "        #Optimization\n",
    "        optimizer.step() \n",
    "        optimizer.zero_grad()\n",
    "        return loss.item() \n",
    "    return train_step_exp_fitting\n",
    "train_step_exp_fitting = build_train_step_exp_fitting(model_fitting, MSELoss, optimizer_exp_fitting)\n",
    "print(model_fitting.state_dict())"
   ]
  },
  {
   "cell_type": "code",
   "execution_count": 20,
   "metadata": {},
   "outputs": [],
   "source": [
    "from torch.utils.data import Dataset\n",
    "class SLRDataset(Dataset):\n",
    "    def __init__(self, phi_exp_data_tensor, pi_exp_data_tensor, train_data_y_tensor):\n",
    "        self.phi = phi_exp_data_tensor\n",
    "        self.pi = pi_exp_data_tensor\n",
    "        self.train = train_data_y_tensor\n",
    "        \n",
    "    def __getitem__(self, index):\n",
    "        return (self.phi[index],self.pi[index], self.train[index])\n",
    "    def __len__(self):\n",
    "        return len(self.phi)\n",
    "#\n",
    "phi_exp_data_tensor = torch.from_numpy(np.array(phi_exp_data))\n",
    "pi_exp_data_tensor = torch.from_numpy(np.array(pi_exp_data))\n",
    "train_data_y_tensor = torch.from_numpy(np.array(train_data_y))\n",
    "training_data = SLRDataset(phi_exp_data_tensor,pi_exp_data_tensor, train_data_y_tensor)\n",
    "\n",
    "from torch.utils.data import DataLoader\n",
    "train_loader = DataLoader(dataset=training_data, batch_size=50, shuffle=True)"
   ]
  },
  {
   "cell_type": "code",
   "execution_count": 21,
   "metadata": {},
   "outputs": [
    {
     "name": "stdout",
     "output_type": "stream",
     "text": [
      "loss_epoch= 12.358866596221924\n",
      "loss_epoch= 9.669654583930969\n",
      "loss_epoch= 7.773796164989472\n",
      "loss_epoch= 6.478020656108856\n",
      "loss_epoch= 5.501032030582428\n",
      "loss_epoch= 4.766412723064422\n",
      "loss_epoch= 4.42119995355606\n",
      "loss_epoch= 4.286863183975219\n",
      "loss_epoch= 4.241568195819855\n",
      "loss_epoch= 4.228258776664734\n",
      "OrderedDict([('training_data_ir', tensor([[ 3.8222],\n",
      "        [-0.8429]]))])\n"
     ]
    }
   ],
   "source": [
    "epochs=10\n",
    "loss_epoch=[]\n",
    "for epoch in range(epochs):\n",
    "    losses_xp_fitting = []\n",
    "    for phi_batch,pi_batch, train_batch in train_loader:\n",
    "        loss = train_step_exp_fitting(ini_eta, phi_batch,pi_batch,train_batch)\n",
    "        losses_xp_fitting.append(loss)\n",
    "    loss_epoch.append(np.sum(losses_xp_fitting)/len(losses_xp_fitting))\n",
    "    print('loss_epoch=',np.sum(losses_xp_fitting)/len(losses_xp_fitting))\n",
    "print(model_fitting.state_dict())"
   ]
  },
  {
   "cell_type": "code",
   "execution_count": 22,
   "metadata": {},
   "outputs": [],
   "source": [
    "did_p=100*uv_cutoff\n",
    "interval=(ini_eta-ir_cutoff)/did_p\n",
    "eta=ir_cutoff\n",
    "fitting_results_exp_h=[]\n",
    "fitting_results_exp_eta=[]\n",
    "for i in range(0,int(did_p+1)):\n",
    "    fitting_results_exp_eta.append(eta)\n",
    "    fitting_results_exp_h.append(fitting_results_exp(h_fitting_vec_tensor_ir,eta))\n",
    "    eta+=interval\n",
    "\n",
    "interval=(ini_eta-ir_cutoff)/did_p\n",
    "eta=ir_cutoff\n",
    "before_h=[]\n",
    "before_eta=[]\n",
    "for i in range(0,int(did_p+1)):\n",
    "    before_eta.append(eta)\n",
    "    before_h.append(fitting_results_exp(torch.tensor(h_fitting_vec_ir),eta))\n",
    "    eta+=interval"
   ]
  },
  {
   "cell_type": "code",
   "execution_count": 23,
   "metadata": {},
   "outputs": [
    {
     "data": {
      "image/png": "[encoded data removed]",
      "text/plain": [
       "<Figure size 432x288 with 1 Axes>"
      ]
     },
     "metadata": {
      "needs_background": "light"
     },
     "output_type": "display_data"
    }
   ],
   "source": [
    "plt.plot(loss_epoch, lw=2, label='Loss Function')\n",
    "plt.title('Time Evolution of Loss Function')\n",
    "plt.legend(bbox_to_anchor=(1.05, 1), loc='upper left', borderaxespad=0.)\n",
    "plt.xlabel('epoch')\n",
    "plt.ylabel('Loss Function')\n",
    "plt.tight_layout()\n",
    "plt.savefig(\"loss_rnq09_3n_1.png\")\n",
    "plt.show()"
   ]
  },
  {
   "cell_type": "code",
   "execution_count": 24,
   "metadata": {},
   "outputs": [
    {
     "data": {
      "image/png": "[encoded data removed]",
      "text/plain": [
       "<Figure size 432x288 with 1 Axes>"
      ]
     },
     "metadata": {
      "needs_background": "light"
     },
     "output_type": "display_data"
    }
   ],
   "source": [
    "plt.plot(np.array(eta_base),H_r(np.array(eta_base)), lw=5, label='True Metric')\n",
    "plt.plot(fitting_results_exp_eta,fitting_results_exp_h, lw=5, label='After Learning')\n",
    "plt.plot(before_eta,before_h, lw=5, label='Before Learning')\n",
    "plt.title('Learning Metric')\n",
    "plt.legend(bbox_to_anchor=(1.05, 1), loc='upper left', borderaxespad=0.)\n",
    "plt.xlabel('$\\eta$')\n",
    "plt.ylabel('$h(\\eta)$')\n",
    "plt.tight_layout()\n",
    "plt.savefig(\"learning_rnq09_3n_1.png\")\n",
    "plt.show()"
   ]
  },
  {
   "cell_type": "code",
   "execution_count": null,
   "metadata": {},
   "outputs": [],
   "source": []
  }
 ],
 "metadata": {
  "kernelspec": {
   "display_name": "Python 3",
   "language": "python",
   "name": "python3"
  },
  "language_info": {
   "codemirror_mode": {
    "name": "ipython",
    "version": 3
   },
   "file_extension": ".py",
   "mimetype": "text/x-python",
   "name": "python",
   "nbconvert_exporter": "python",
   "pygments_lexer": "ipython3",
   "version": "3.8.3"
  }
 },
 "nbformat": 4,
 "nbformat_minor": 4
}
